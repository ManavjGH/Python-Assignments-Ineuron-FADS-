{
 "cells": [
  {
   "cell_type": "markdown",
   "id": "40ac44da",
   "metadata": {},
   "source": [
    "Create a function that takes three parameters where:\n",
    "\n",
    " x is the start of the range (inclusive).\n",
    "\n",
    " y is the end of the range (inclusive).\n",
    "\n",
    " n is the divisor to be checked against.\n",
    "\n",
    "Return an ordered list with numbers in the range that are divisible by the third parameter n.\n",
    "Return an empty list if there are no numbers that are divisible by n."
   ]
  },
  {
   "cell_type": "code",
   "execution_count": 1,
   "id": "24976f33",
   "metadata": {},
   "outputs": [
    {
     "name": "stdout",
     "output_type": "stream",
     "text": [
      "[3, 6, 9]\n",
      "[8]\n",
      "[]\n"
     ]
    }
   ],
   "source": [
    "def list_operations(x,y,n):\n",
    "    l=[]\n",
    "    for i in range (x, y+1):\n",
    "        if i%n==0:\n",
    "            l.append(i)\n",
    "    print (l)\n",
    "\n",
    "list_operations(1,10,3)\n",
    "list_operations(7,9,2)\n",
    "list_operations(15,20,7)\n",
    "        "
   ]
  },
  {
   "cell_type": "markdown",
   "id": "57bfe1ce",
   "metadata": {},
   "source": [
    "Create a function that takes in two lists and returns True if the second list follows the first list\n",
    "by one element, and False otherwise. In other words, determine if the second list is the first\n",
    "list shifted to the right by 1."
   ]
  },
  {
   "cell_type": "code",
   "execution_count": 2,
   "id": "cdfce9f2",
   "metadata": {},
   "outputs": [
    {
     "name": "stdout",
     "output_type": "stream",
     "text": [
      "True\n",
      "False\n",
      "True\n",
      "False\n"
     ]
    }
   ],
   "source": [
    "def simon_says(l1,l2):\n",
    "    if l1[0]==l2[1]:\n",
    "        return True\n",
    "    else:\n",
    "        return False\n",
    "    \n",
    "print(simon_says([1, 2], [5, 1]) )\n",
    "print(simon_says([1, 2], [5, 5])) \n",
    "print(simon_says([1, 2, 3, 4, 5], [0, 1, 2, 3, 4]) )\n",
    "print(simon_says([1, 2, 3, 4, 5], [5, 5, 1, 2, 3]) )"
   ]
  },
  {
   "cell_type": "markdown",
   "id": "60f2d023",
   "metadata": {},
   "source": [
    "A group of friends have decided to start a secret society. The name will be the first letter of\n",
    "each of their names, sorted in alphabetical order.\n",
    "Create a function that takes in a list of names and returns the name of the secret society."
   ]
  },
  {
   "cell_type": "code",
   "execution_count": 3,
   "id": "160c3654",
   "metadata": {},
   "outputs": [
    {
     "name": "stdout",
     "output_type": "stream",
     "text": [
      "AMS\n",
      "CHLN\n",
      "CJMPRR\n"
     ]
    }
   ],
   "source": [
    "def society_name(l):\n",
    "    l2=[]\n",
    "    for i in l:\n",
    "        l2.append(i[0])\n",
    "    l2.sort()\n",
    "    sn=''.join(l2)\n",
    "    print(sn)\n",
    "\n",
    "society_name(['Adam', 'Sarah', 'Malcolm']) \n",
    "society_name(['Harry', 'Newt', 'Luna', 'Cho']) \n",
    "society_name(['Phoebe', 'Chandler', 'Rachel','Ross', 'Monica', 'Joey'])\n",
    "    "
   ]
  },
  {
   "cell_type": "markdown",
   "id": "01b6b1ce",
   "metadata": {},
   "source": [
    "An isogram is a word that has no duplicate letters. Create a function that takes a string and\n",
    "returns either True or False depending on whether or not it&#39;s an &quot;isogram&quot;."
   ]
  },
  {
   "cell_type": "code",
   "execution_count": 4,
   "id": "463381d1",
   "metadata": {},
   "outputs": [
    {
     "name": "stdout",
     "output_type": "stream",
     "text": [
      "True\n",
      "False\n",
      "False\n"
     ]
    }
   ],
   "source": [
    "def is_isogram(s):\n",
    "    l=[]\n",
    "    for i in s.upper():\n",
    "        l.append(i)\n",
    "    l.sort()\n",
    "    sl=set(l)\n",
    "    l2=list(sl)\n",
    "    l2.sort()\n",
    "    if l2==l:\n",
    "        return True\n",
    "    else:\n",
    "        return False\n",
    "print(is_isogram('Algorism'))\n",
    "print(is_isogram('PasSword'))\n",
    "print(is_isogram('Consecutive')) \n",
    "            "
   ]
  },
  {
   "cell_type": "markdown",
   "id": "e3878fd5",
   "metadata": {},
   "source": [
    "Create a function that takes a string and returns True or False, depending on whether the\n",
    "characters are in order or not."
   ]
  },
  {
   "cell_type": "code",
   "execution_count": 5,
   "id": "27361456",
   "metadata": {},
   "outputs": [
    {
     "name": "stdout",
     "output_type": "stream",
     "text": [
      "True\n",
      "False\n",
      "True\n",
      "True\n"
     ]
    }
   ],
   "source": [
    "def is_in_order(s):\n",
    "    l=[]\n",
    "    for i in s:\n",
    "        l.append(i)\n",
    "    l2=sorted(l)\n",
    "    if l==l2:\n",
    "        return True\n",
    "    else:\n",
    "        return False\n",
    "    \n",
    "print(is_in_order('abc'))\n",
    "print(is_in_order('edabit') )\n",
    "print(is_in_order('123'))\n",
    "print(is_in_order('xyzz'))\n",
    "    \n",
    "    "
   ]
  },
  {
   "cell_type": "code",
   "execution_count": null,
   "id": "4e8d17e6",
   "metadata": {},
   "outputs": [],
   "source": []
  }
 ],
 "metadata": {
  "kernelspec": {
   "display_name": "Python 3 (ipykernel)",
   "language": "python",
   "name": "python3"
  },
  "language_info": {
   "codemirror_mode": {
    "name": "ipython",
    "version": 3
   },
   "file_extension": ".py",
   "mimetype": "text/x-python",
   "name": "python",
   "nbconvert_exporter": "python",
   "pygments_lexer": "ipython3",
   "version": "3.9.12"
  }
 },
 "nbformat": 4,
 "nbformat_minor": 5
}
