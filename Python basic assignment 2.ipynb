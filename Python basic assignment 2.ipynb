{
 "cells": [
  {
   "cell_type": "markdown",
   "id": "2f9f2a38",
   "metadata": {},
   "source": [
    "1.What are the two values of the Boolean data type? How do you write them?\n",
    "\n",
    "Ans- Two types of boolean values are \"True\" and \"False\". We write them in the same manner"
   ]
  },
  {
   "cell_type": "markdown",
   "id": "acad9949",
   "metadata": {},
   "source": [
    "2 What are the three different types of Boolean operators?\n",
    "\n",
    "Ans-Three types of operators are 'AND', 'OR', 'NOT'\n"
   ]
  },
  {
   "cell_type": "markdown",
   "id": "29fa4669",
   "metadata": {},
   "source": [
    "3 Make a list of each Boolean operator's truth tables (i.e. every possible combination of Boolean\n",
    "values for the operator and what it evaluate ).\n",
    "\n",
    "Ans-Using True as 'T' and False as 'F'\n",
    "  1.'AND' operator:\n",
    "      T and T is T\n",
    "      T and F is F\n",
    "      F and T is F\n",
    "      F and F is F\n",
    "  2.'OR'operator:\n",
    "      T or T is T\n",
    "      F or T is T\n",
    "      T or F is T\n",
    "      F or F is F\n",
    "  3.'NOT' operator:\n",
    "      not T is F\n",
    "      not F is T"
   ]
  },
  {
   "cell_type": "markdown",
   "id": "2b487fbb",
   "metadata": {},
   "source": [
    "4 What are the values of the following expressions?\n",
    "(5 > 4) and (3 == 5)                  = False\n",
    "not (5 > 4)                           = False\n",
    "(5 > 4) or (3 == 5)                   = True\n",
    "not ((5 > 4) or (3 == 5))             = False\n",
    "(True and True) and (True == False)   = False \n",
    "(not False) or (not True)             = True\n"
   ]
  },
  {
   "cell_type": "markdown",
   "id": "9b748cdb",
   "metadata": {},
   "source": [
    "5 What are the six comparison operators?\n",
    "\n",
    "Ans- ==, !=, <=, >=, <, >"
   ]
  },
  {
   "cell_type": "markdown",
   "id": "68ff00b0",
   "metadata": {},
   "source": [
    "6 How do you tell the difference between the equal to and assignment operators?Describe a\n",
    "condition and when you would use one.\n",
    "\n",
    "Ans-'==' is the equal to operator that compares two values and evaluates to a Boolean, while '=' is the assignment operator that stores a value in a variable.\n"
   ]
  },
  {
   "cell_type": "markdown",
   "id": "b8610262",
   "metadata": {},
   "source": [
    "7 Identify the three blocks in this code:\n",
    "spam = 0\n",
    "if spam == 10:\n",
    "print('eggs')\n",
    "if spam > 5:\n",
    "print('bacon')\n",
    "else:\n",
    "print('ham')\n",
    "print('spam')\n",
    "print('spam')\n",
    "\n",
    "Ans- The three blocks are everything inside the if statement and the lines print('bacon') and print('ham').\n",
    "Because the indent is not proper which gives the indentetion error.\n",
    "\n"
   ]
  },
  {
   "cell_type": "code",
   "execution_count": 4,
   "id": "0b2244c7",
   "metadata": {},
   "outputs": [
    {
     "name": "stdout",
     "output_type": "stream",
     "text": [
      "enter the number:10\n",
      "Greetings\n"
     ]
    }
   ],
   "source": [
    "# 8. Write code that prints Hello if 1 is stored in spam, prints Howdy if 2 is stored in spam, and prints\n",
    "# Greetings! if anything else is stored in spam.\n",
    "# Ans:\n",
    "spam=int(input('enter the number:'))\n",
    "if spam==1:\n",
    "    print('Hello')\n",
    "elif spam==2:\n",
    "    print('Howdy')\n",
    "else:\n",
    "    print('Greetings')\n",
    "        \n"
   ]
  },
  {
   "cell_type": "markdown",
   "id": "d389bf49",
   "metadata": {},
   "source": [
    "9.If your programme is stuck in an endless loop, what keys you’ll press?\n",
    "\n",
    "Ans-Press CTRL-C to stop a program stuck in an infinite loop.\n",
    "\n",
    "\n",
    "10 How can you tell the difference between break and continue?\n",
    "\n",
    "Ans-The break statement will move the execution outside and just after a loop. The continue statement will move the execution to the start of the loop.\n",
    "\n",
    "\n",
    "11 In a for loop, what is the difference between range(10), range(0, 10), and range(0, 10, 1)?\n",
    "\n",
    "Ans- They all do almost the same thing. range(10) means from '0 to 9' not including 10, range (0,10) also does the same thing but tells it to explicitly start from 0(i.e. it gives the starting point) and range (0,10,1) means from 0 to 10 this is also including 10 unlike the first case.\n",
    "\n"
   ]
  },
  {
   "cell_type": "code",
   "execution_count": 6,
   "id": "0a958a16",
   "metadata": {},
   "outputs": [
    {
     "name": "stdout",
     "output_type": "stream",
     "text": [
      "1\n",
      "2\n",
      "3\n",
      "4\n",
      "5\n",
      "6\n",
      "7\n",
      "8\n",
      "9\n",
      "10\n"
     ]
    }
   ],
   "source": [
    "# 12. Write a short program that prints the numbers 1 to 10 using a for loop. Then write an equivalent\n",
    "# program that prints the numbers 1 to 10 using a while loop.\n",
    "\n",
    "for i in range (1,11):\n",
    "    print (i)"
   ]
  },
  {
   "cell_type": "code",
   "execution_count": 12,
   "id": "759e0039",
   "metadata": {},
   "outputs": [
    {
     "name": "stdout",
     "output_type": "stream",
     "text": [
      "1\n",
      "2\n",
      "3\n",
      "4\n",
      "5\n",
      "6\n",
      "7\n",
      "8\n",
      "9\n",
      "10\n"
     ]
    }
   ],
   "source": [
    "i=1\n",
    "while  i<=10:\n",
    "    print(i)\n",
    "    i=i+1"
   ]
  },
  {
   "cell_type": "markdown",
   "id": "40df742f",
   "metadata": {},
   "source": [
    "13 If you had a function named bacon() inside a module named spam, how would you call it after\n",
    "importing spam?\n",
    "\n",
    "Ans-This function can be called with spam.bacon()."
   ]
  }
 ],
 "metadata": {
  "kernelspec": {
   "display_name": "Python 3 (ipykernel)",
   "language": "python",
   "name": "python3"
  },
  "language_info": {
   "codemirror_mode": {
    "name": "ipython",
    "version": 3
   },
   "file_extension": ".py",
   "mimetype": "text/x-python",
   "name": "python",
   "nbconvert_exporter": "python",
   "pygments_lexer": "ipython3",
   "version": "3.9.12"
  }
 },
 "nbformat": 4,
 "nbformat_minor": 5
}
