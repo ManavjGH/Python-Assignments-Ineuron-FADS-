{
 "cells": [
  {
   "cell_type": "markdown",
   "id": "8b5e3635",
   "metadata": {},
   "source": [
    "Write a function that takes a list and a number as arguments. Add the number to the end of\n",
    "the list, then remove the first element of the list. The function should then return the updated\n",
    "list."
   ]
  },
  {
   "cell_type": "code",
   "execution_count": 1,
   "id": "24cfdde1",
   "metadata": {},
   "outputs": [
    {
     "name": "stdout",
     "output_type": "stream",
     "text": [
      "[6, 7, 8, 9, 1]\n",
      "[6, 3, 23, 17, 10]\n",
      "[10, 20, 42, 6]\n",
      "No list has been selected!\n"
     ]
    }
   ],
   "source": [
    "def next_in_line(l,n):\n",
    "    try:\n",
    "        if type(l)==list:\n",
    "            l.remove(l[0])\n",
    "            l.append(n)\n",
    "            print(l)\n",
    "    except IndexError:\n",
    "        print('No list has been selected!')\n",
    "       \n",
    "    \n",
    "    \n",
    "next_in_line([5, 6, 7, 8, 9], 1) \n",
    "next_in_line([7, 6, 3, 23, 17], 10) \n",
    "next_in_line([1, 10, 20, 42 ], 6) \n",
    "next_in_line([], 6) \n",
    "    \n"
   ]
  },
  {
   "cell_type": "markdown",
   "id": "a6639c8d",
   "metadata": {},
   "source": [
    "Create the function that takes a list of dictionaries and returns the sum of people&#39;s budgets."
   ]
  },
  {
   "cell_type": "code",
   "execution_count": 2,
   "id": "d7efb9a3",
   "metadata": {},
   "outputs": [
    {
     "name": "stdout",
     "output_type": "stream",
     "text": [
      "65700\n",
      "62600\n"
     ]
    }
   ],
   "source": [
    "def get_budgets(l):\n",
    "    total_budget=0\n",
    "    for i in l:\n",
    "        total_budget=total_budget + i['budget']\n",
    "    print(total_budget)\n",
    "    \n",
    "get_budgets([ { \"name\": \"John\", \"age\": 21, \"budget\": 23000 }, \n",
    "             { \"name\": \"Steve\", \"age\": 32, \"budget\": 40000 }, \n",
    "             { \"name\": \"Martin\", \"age\": 16, \"budget\": 2700 } ]) #➞ 65700 \n",
    "get_budgets([ { \"name\": \"John\", \"age\": 21, \"budget\": 29000 }, \n",
    "             { \"name\": \"Steve\", \"age\": 32, \"budget\": 32000 }, \n",
    "             { \"name\": \"Martin\", \"age\": 16, \"budget\": 1600 } ]) #➞ 62600"
   ]
  },
  {
   "cell_type": "markdown",
   "id": "7c1b9dbe",
   "metadata": {},
   "source": [
    "Create a function that takes a string and returns a string with its letters in alphabetical order."
   ]
  },
  {
   "cell_type": "code",
   "execution_count": 3,
   "id": "211ce7ba",
   "metadata": {},
   "outputs": [
    {
     "name": "stdout",
     "output_type": "stream",
     "text": [
      "ehllo\n",
      "abdeit\n",
      "acehkr\n",
      "eegk\n",
      "aacijprstv\n"
     ]
    }
   ],
   "source": [
    "def alphabet_soup(s):\n",
    "    l=[]\n",
    "    for i in s:\n",
    "        l.append(i)\n",
    "    l.sort()\n",
    "    ss=''.join(l)\n",
    "    print(ss)\n",
    "alphabet_soup(\"hello\") #➞ \"ehllo\" \n",
    "alphabet_soup(\"edabit\") #➞ \"abdeit\" \n",
    "alphabet_soup(\"hacker\") #➞ \"acehkr\" \n",
    "alphabet_soup(\"geek\") #➞ \"eegk\" \n",
    "alphabet_soup(\"javascript\") #➞ \"aacijprstv\""
   ]
  },
  {
   "cell_type": "markdown",
   "id": "4c0e3e7c",
   "metadata": {},
   "source": [
    "Suppose that you invest $10,000 for 10 years at an interest rate of 6% compounded monthly.\n",
    "What will be the value of your investment at the end of the 10 year period?\n",
    "Create a function that accepts the principal p, the term in years t, the interest rate r, and the\n",
    "number of compounding periods per year n. The function returns the value at the end of term\n",
    "rounded to the nearest cent."
   ]
  },
  {
   "cell_type": "code",
   "execution_count": 4,
   "id": "641076db",
   "metadata": {},
   "outputs": [
    {
     "name": "stdout",
     "output_type": "stream",
     "text": [
      "105.0\n",
      "15399.264120852586\n",
      "2007316.2632325366\n",
      "18193.9673403229\n"
     ]
    }
   ],
   "source": [
    "def compound_interest(p,t,r,n):\n",
    "    ci=p*(1+r/n)**(n*t)\n",
    "    print(ci)\n",
    "compound_interest(100, 1, 0.05, 1) #➞ 105.0\n",
    "compound_interest(3500, 15, 0.1, 4) #➞ 15399.26\n",
    "compound_interest(100000, 20, 0.15, 365) #➞ 2007316.26\n",
    "compound_interest(10000, 10, 0.06, 12) #➞ 18193.97\n",
    "    "
   ]
  },
  {
   "cell_type": "markdown",
   "id": "a8cb941e",
   "metadata": {},
   "source": [
    "Write a function that takes a list of elements and returns only the integers."
   ]
  },
  {
   "cell_type": "code",
   "execution_count": 5,
   "id": "65c225dc",
   "metadata": {},
   "outputs": [
    {
     "name": "stdout",
     "output_type": "stream",
     "text": [
      "[9, 2, 16]\n",
      "[81, 123]\n",
      "[10, 56, 20, 3]\n",
      "[1]\n"
     ]
    }
   ],
   "source": [
    "def return_only_integer(l):\n",
    "    l2=[]\n",
    "    for i in l:\n",
    "        if type(i)==int:\n",
    "            l2.append(i)\n",
    "    print(l2)\n",
    "return_only_integer([9, 2, \"space\", \"car\", \"lion\", 16]) #➞ [9, 2, 16] \n",
    "return_only_integer([\"hello\", 81, \"basketball\", 123, \"fox\"]) #➞ [81, 123] \n",
    "return_only_integer([10, \"121\", 56, 20, \"car\", 3, \"lion\"]) #➞ [10, 56, 20, 3] \n",
    "return_only_integer([\"String\", True, 3.3, 1]) #➞ [1]    \n"
   ]
  },
  {
   "cell_type": "code",
   "execution_count": null,
   "id": "53c94cb6",
   "metadata": {},
   "outputs": [],
   "source": []
  }
 ],
 "metadata": {
  "kernelspec": {
   "display_name": "Python 3 (ipykernel)",
   "language": "python",
   "name": "python3"
  },
  "language_info": {
   "codemirror_mode": {
    "name": "ipython",
    "version": 3
   },
   "file_extension": ".py",
   "mimetype": "text/x-python",
   "name": "python",
   "nbconvert_exporter": "python",
   "pygments_lexer": "ipython3",
   "version": "3.9.12"
  }
 },
 "nbformat": 4,
 "nbformat_minor": 5
}
