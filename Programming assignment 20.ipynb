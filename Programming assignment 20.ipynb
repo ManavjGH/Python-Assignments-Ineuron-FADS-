{
 "cells": [
  {
   "cell_type": "markdown",
   "id": "fd8d8ac2",
   "metadata": {},
   "source": [
    "Create a function that takes a list of strings and integers, and filters out the list so that it\n",
    "returns a list of integers only."
   ]
  },
  {
   "cell_type": "code",
   "execution_count": 1,
   "id": "29b7a945",
   "metadata": {},
   "outputs": [
    {
     "name": "stdout",
     "output_type": "stream",
     "text": [
      "[1, 2, 3, 4]\n",
      "[0, 1729]\n",
      "[]\n"
     ]
    }
   ],
   "source": [
    "def filter_list(l):\n",
    "    l2=[]\n",
    "    for i in l :\n",
    "        if type(i)==int:\n",
    "            l2.append(i)\n",
    "    print(l2)\n",
    "    \n",
    "filter_list([1, 2, 3, \"a\", \"b\", 4]) #➞ [1, 2, 3, 4] \n",
    "filter_list([\"A\", 0, \"Edabit\", 1729, \"Python\", \"1729\"]) #➞ [0, 1729] \n",
    "filter_list([\"Nothing\", \"here\"]) #➞ []"
   ]
  },
  {
   "cell_type": "markdown",
   "id": "e3966438",
   "metadata": {},
   "source": [
    "Given a list of numbers, create a function which returns the list but with each element&#39;s\n",
    "index in the list added to itself. This means you add 0 to the number at index 0, add 1 to the\n",
    "number at index 1, etc..."
   ]
  },
  {
   "cell_type": "code",
   "execution_count": 2,
   "id": "a78adb69",
   "metadata": {},
   "outputs": [
    {
     "name": "stdout",
     "output_type": "stream",
     "text": [
      "[0, 1, 2, 3, 4]\n",
      "[1, 3, 5, 7, 9]\n",
      "[5, 5, 5, 5, 5]\n"
     ]
    }
   ],
   "source": [
    "def add_indexes(l):\n",
    "    l2=[]\n",
    "    a=0\n",
    "    for i in l:\n",
    "        l2.append(i+l.index(i,a))\n",
    "        a+=1\n",
    "    print(l2)\n",
    "    \n",
    "add_indexes([0, 0, 0, 0, 0]) #➞ [0, 1, 2, 3, 4]\n",
    "add_indexes([1, 2, 3, 4, 5]) #➞ [1, 3, 5, 7, 9]\n",
    "add_indexes([5, 4, 3, 2, 1]) #➞ [5, 5, 5, 5, 5]\n",
    "        \n",
    "        \n",
    "        "
   ]
  },
  {
   "cell_type": "markdown",
   "id": "f75357dd",
   "metadata": {},
   "source": [
    "Create a function that takes the height and radius of a cone as arguments and returns the\n",
    "volume of the cone rounded to the nearest hundredth. See the resources tab for the formula."
   ]
  },
  {
   "cell_type": "code",
   "execution_count": 3,
   "id": "0046e68e",
   "metadata": {},
   "outputs": [
    {
     "name": "stdout",
     "output_type": "stream",
     "text": [
      "12.57\n",
      "565.49\n",
      "0.0\n"
     ]
    }
   ],
   "source": [
    "import math\n",
    "def cone_volume(h,r):\n",
    "    v=(math.pi)*r**2*(h/3)\n",
    "    v1=round(v,2)\n",
    "    print(v1)\n",
    "    \n",
    "\n",
    "cone_volume(3, 2) #➞ 12.57\n",
    "cone_volume(15, 6) #➞ 565.49\n",
    "cone_volume(18, 0) #➞ 0\n",
    "    \n",
    "    "
   ]
  },
  {
   "cell_type": "markdown",
   "id": "c080dcaa",
   "metadata": {},
   "source": [
    "This Triangular Number Sequence is generated from a pattern of dots that form a triangle.\n",
    "The first 5 numbers of the sequence, or dots, are:\n",
    "    \n",
    "1, 3, 6, 10, 15\n",
    "\n",
    "This means that the first triangle has just one dot, the second one has three dots, the third one\n",
    "has 6 dots and so on.\n",
    "\n",
    "Write a function that gives the number of dots with its corresponding triangle number of the\n",
    "sequence."
   ]
  },
  {
   "cell_type": "code",
   "execution_count": 4,
   "id": "ea19255f",
   "metadata": {},
   "outputs": [
    {
     "name": "stdout",
     "output_type": "stream",
     "text": [
      "1\n",
      "21\n",
      "23220\n"
     ]
    }
   ],
   "source": [
    "def triangle(num):\n",
    "    a=0\n",
    "    for i in range(1,num+1):\n",
    "        a=a+i\n",
    "    print(a)\n",
    "        \n",
    "triangle(1) #➞ 1\n",
    "triangle(6) #➞ 21\n",
    "triangle(215) #➞ 23220"
   ]
  },
  {
   "cell_type": "markdown",
   "id": "cdadcdad",
   "metadata": {},
   "source": [
    "Create a function that takes a list of numbers between 1 and 10 (excluding one number) and\n",
    "returns the missing number."
   ]
  },
  {
   "cell_type": "code",
   "execution_count": 5,
   "id": "d24ab82f",
   "metadata": {},
   "outputs": [
    {
     "name": "stdout",
     "output_type": "stream",
     "text": [
      "5\n",
      "10\n",
      "7\n"
     ]
    }
   ],
   "source": [
    "def missing_num(l):\n",
    "    for i in range(1,11):\n",
    "        if i in l:\n",
    "            continue\n",
    "        else:\n",
    "            return i\n",
    "     \n",
    "            \n",
    "print(missing_num([1, 2, 3, 4, 6, 7, 8, 9, 10]))# ➞ 5\n",
    "print(missing_num([7, 2, 3, 6, 5, 9, 1, 4, 8])) #➞ 10\n",
    "print(missing_num([10, 5, 1, 2, 4, 6, 8, 3, 9]))# ➞ 7\n",
    "        "
   ]
  }
 ],
 "metadata": {
  "kernelspec": {
   "display_name": "Python 3 (ipykernel)",
   "language": "python",
   "name": "python3"
  },
  "language_info": {
   "codemirror_mode": {
    "name": "ipython",
    "version": 3
   },
   "file_extension": ".py",
   "mimetype": "text/x-python",
   "name": "python",
   "nbconvert_exporter": "python",
   "pygments_lexer": "ipython3",
   "version": "3.9.12"
  }
 },
 "nbformat": 4,
 "nbformat_minor": 5
}
