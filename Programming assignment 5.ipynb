{
 "cells": [
  {
   "cell_type": "markdown",
   "id": "466b0db7",
   "metadata": {},
   "source": [
    "1.Write a Python Program to Find LCM?\n",
    "\n",
    "2.Write a Python Program to Find HCF?\n",
    "\n",
    "3.Write a Python Program to Convert Decimal to Binary, Octal and Hexadecimal?\n",
    "\n",
    "4.Write a Python Program To Find ASCII value of a character?\n",
    "\n",
    "5.Write a Python Program to Make a Simple Calculator with 4 basic mathematical operations?"
   ]
  },
  {
   "cell_type": "code",
   "execution_count": 8,
   "id": "365518c7",
   "metadata": {},
   "outputs": [
    {
     "name": "stdout",
     "output_type": "stream",
     "text": [
      "enter number: 24\n",
      "enter number: 36\n",
      "The LCM of 24 and 36 is 72\n"
     ]
    }
   ],
   "source": [
    "# 1\n",
    "def lcm(a,b):\n",
    "    maxnum= max(a,b)\n",
    "    while True:\n",
    "        if (maxnum%a==0 and maxnum%b==0):\n",
    "            maxnum\n",
    "            print(f'The LCM of {a} and {b} is {maxnum}')\n",
    "            break\n",
    "        maxnum+=1\n",
    "            \n",
    "        \n",
    "a=int(input('enter number: '))\n",
    "b=int(input('enter number: '))\n",
    "lcm(a,b)"
   ]
  },
  {
   "cell_type": "code",
   "execution_count": 19,
   "id": "1841cf22",
   "metadata": {},
   "outputs": [
    {
     "name": "stdout",
     "output_type": "stream",
     "text": [
      "enter number: 28\n",
      "enter number: 12\n",
      "The HCF of 28 and 12 is 4\n"
     ]
    }
   ],
   "source": [
    "# 2\n",
    "def hcf(c,d):\n",
    "    minnum=min(a,b)\n",
    "    for i in range(1,minnum+1):\n",
    "        if (a%i==0 and b%i==0):\n",
    "            hcf=i\n",
    "    print(f'The HCF of {a} and {b} is {hcf}')\n",
    "        \n",
    "        \n",
    "        \n",
    "c=int(input('enter number: '))\n",
    "d=int(input('enter number: '))\n",
    "hcf(c,d)"
   ]
  },
  {
   "cell_type": "code",
   "execution_count": 20,
   "id": "23974ab8",
   "metadata": {},
   "outputs": [
    {
     "name": "stdout",
     "output_type": "stream",
     "text": [
      "The value of 300 is: \n",
      "0b100101100 in binary\n",
      "0o454 in Octal\n",
      "0x12c in Hexadecimal\n"
     ]
    }
   ],
   "source": [
    "# 3\n",
    "dnum=300\n",
    "print (f'The value of {dnum} is: ')\n",
    "print(bin(dnum), 'in binary')\n",
    "print(oct(dnum), 'in Octal')\n",
    "print(hex(dnum), 'in Hexadecimal')"
   ]
  },
  {
   "cell_type": "code",
   "execution_count": 21,
   "id": "9ceade4b",
   "metadata": {},
   "outputs": [
    {
     "name": "stdout",
     "output_type": "stream",
     "text": [
      "The ASCII value od A is 65\n"
     ]
    }
   ],
   "source": [
    "# 4\n",
    "a='A'\n",
    "val=ord(a)\n",
    "print(f'The ASCII value od {a} is {val}')"
   ]
  },
  {
   "cell_type": "code",
   "execution_count": 31,
   "id": "981ea688",
   "metadata": {},
   "outputs": [
    {
     "name": "stdout",
     "output_type": "stream",
     "text": [
      "Select operation:\n",
      "    1. Add\n",
      "    2. Subtract\n",
      "    3. Multiply\n",
      "    4. Divide\n",
      "Enter your choice: 88\n",
      "Please choose a valid option.\n",
      "Enter your choice: 3\n",
      "Enter a number: 99\n",
      "Enter a number: 88\n",
      "99X88=8712\n",
      "Thankyou for using our calculator\n",
      "Would you like to do another calculation : Y/N\n",
      "n\n"
     ]
    }
   ],
   "source": [
    "# 5\n",
    "print('''Select operation:\n",
    "    1. Add\n",
    "    2. Subtract\n",
    "    3. Multiply\n",
    "    4. Divide''')\n",
    "    \n",
    "while True:\n",
    "    c=input('Enter your choice: ')\n",
    "    \n",
    "    if c in ('1','2','3','4'):\n",
    "        n1=int(input('Enter a number: '))\n",
    "        n2=int(input('Enter a number: '))\n",
    "        if c=='1':\n",
    "            print(f'{n1}+{n2}={n1+n2}')\n",
    "        elif c=='2':\n",
    "            print(f'{n1}-{n2}={n1-n2}')\n",
    "        elif c=='3':\n",
    "            print(f'{n1}X{n2}={n1*n2}')\n",
    "        elif c=='4':\n",
    "            print(f'{n1}/{n2}={n1/n2}')\n",
    "        nextcal=input('Thankyou for using our calculator\\nWould you like to do another calculation : Y/N\\n')\n",
    "        n=nextcal.upper()\n",
    "        if n=='N':\n",
    "            break\n",
    "    else:\n",
    "        print('Please choose a valid option.')   "
   ]
  },
  {
   "cell_type": "code",
   "execution_count": null,
   "id": "afbb8d44",
   "metadata": {},
   "outputs": [],
   "source": []
  },
  {
   "cell_type": "code",
   "execution_count": null,
   "id": "9881d5b7",
   "metadata": {},
   "outputs": [],
   "source": []
  }
 ],
 "metadata": {
  "kernelspec": {
   "display_name": "Python 3 (ipykernel)",
   "language": "python",
   "name": "python3"
  },
  "language_info": {
   "codemirror_mode": {
    "name": "ipython",
    "version": 3
   },
   "file_extension": ".py",
   "mimetype": "text/x-python",
   "name": "python",
   "nbconvert_exporter": "python",
   "pygments_lexer": "ipython3",
   "version": "3.9.12"
  }
 },
 "nbformat": 4,
 "nbformat_minor": 5
}
