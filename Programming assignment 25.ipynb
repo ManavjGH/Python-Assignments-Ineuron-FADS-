{
 "cells": [
  {
   "cell_type": "markdown",
   "id": "9cef3e76",
   "metadata": {},
   "source": [
    "Question1\n",
    "Create a function that takes three integer arguments (a, b, c) and returns the amount of\n",
    "integers which are of equal value.\n",
    "\n",
    "Question2\n",
    "Write a function that converts a dictionary into a list of keys-values tuples.\n",
    "\n",
    "Notes\n",
    "Return the elements in the list in alphabetical order.\n",
    "\n",
    "Question3\n",
    "Write a function that creates a dictionary with each (key, value) pair being the (lower case,\n",
    "upper case) versions of a letter, respectively.\n",
    "\n",
    "Notes\n",
    "All of the letters in the input list will always be lowercase.\n",
    "\n",
    "Question4\n",
    "Write a function, that replaces all vowels in a string with a specified vowel.\n",
    "\n",
    "Notes\n",
    "All words will be lowercase. Y is not considered a vowel.\n",
    "\n",
    "Question5\n",
    "Create a function that takes a string as input and capitalizes a letter if its ASCII code is even\n",
    "and returns its lower case version if its ASCII code is odd.\n"
   ]
  },
  {
   "cell_type": "code",
   "execution_count": 1,
   "id": "02434021",
   "metadata": {},
   "outputs": [
    {
     "name": "stdout",
     "output_type": "stream",
     "text": [
      "0\n",
      "0\n",
      "2\n",
      "2\n",
      "3\n",
      "3\n"
     ]
    }
   ],
   "source": [
    "# 1\n",
    "def equal(a,b,c):\n",
    "    if (a==b and a==c and b==c):\n",
    "        return 3\n",
    "    elif (a==b or a==c or b==c):\n",
    "        return 2\n",
    "    else:\n",
    "        return 0\n",
    "print (equal(1,2,3)) \n",
    "print (equal(1,4,7)) \n",
    "print (equal(3,3,9)) \n",
    "print (equal(6,6,9)) \n",
    "print (equal(9,9,9))\n",
    "print (equal(7,7,7))"
   ]
  },
  {
   "cell_type": "code",
   "execution_count": 2,
   "id": "2db2b88b",
   "metadata": {},
   "outputs": [
    {
     "name": "stdout",
     "output_type": "stream",
     "text": [
      "[('A', 1), ('B', 'ineuron'), ('C', 789), ('D', 'd'), ('E', 'DS'), ('a', 'A')]\n"
     ]
    }
   ],
   "source": [
    "# 2\n",
    "mydict={'A':1,\n",
    "       'C':789,\n",
    "       'B':'ineuron',\n",
    "       'E':'DS',\n",
    "       'a':'A',\n",
    "       'D':'d'}\n",
    "mylist=list(mydict.items())\n",
    "mylist.sort()\n",
    "print(mylist)"
   ]
  },
  {
   "cell_type": "code",
   "execution_count": 3,
   "id": "d5f5fd01",
   "metadata": {},
   "outputs": [
    {
     "name": "stdout",
     "output_type": "stream",
     "text": [
      "{'a': 'A', 'b': 'B', 'c': 'C', 'd': 'D', 'e': 'E', 'f': 'F', 'g': 'G'}\n"
     ]
    }
   ],
   "source": [
    "# 3\n",
    "def function(mylist):\n",
    "    mydict={}\n",
    "    if type(mylist)==list:\n",
    "        for i in mylist:\n",
    "            mydict[i]=i.upper()\n",
    "        return mydict\n",
    "    \n",
    "print(function(['a','b','c','d','e','f','g']))"
   ]
  },
  {
   "cell_type": "code",
   "execution_count": 4,
   "id": "cc348223",
   "metadata": {},
   "outputs": [
    {
     "name": "stdout",
     "output_type": "stream",
     "text": [
      "upplus und bununus\n",
      "chooso cossorolo\n",
      "steffed jelepene peppers\n"
     ]
    }
   ],
   "source": [
    "# 4\n",
    "def replacevow(string, r):\n",
    "    vow=['a','e','i','o','u']\n",
    "    l=list(string)\n",
    "    nl=[]\n",
    "    for i in l:\n",
    "        for j in vow:\n",
    "            if i==j:\n",
    "                nl.append(r)\n",
    "                break\n",
    "        else:\n",
    "            nl.append(i)\n",
    "    return (''.join(nl))\n",
    "                \n",
    "print(replacevow('apples and bananas', 'u'))\n",
    "print(replacevow('cheese casserole', 'o'))\n",
    "print(replacevow('stuffed jalapeno poppers', 'e'))\n"
   ]
  },
  {
   "cell_type": "code",
   "execution_count": 5,
   "id": "4ca685f0",
   "metadata": {},
   "outputs": [
    {
     "name": "stdout",
     "output_type": "stream",
     "text": [
      "To Be oR NoT To Be!\n",
      "THe LiTTLe meRmaiD\n",
      "oH wHaT a BeauTiFuL moRNiNg.\n"
     ]
    }
   ],
   "source": [
    "# 5\n",
    "def asciic(s):\n",
    "    l=list(s)\n",
    "    nl=[]\n",
    "    for i in l:\n",
    "        if ord(i)%2==0:\n",
    "            nl.append(i.upper())\n",
    "            \n",
    "        else:\n",
    "            nl.append(i.lower())\n",
    "    return(''.join(nl))\n",
    "print(asciic('to be or not to be!'))\n",
    "print(asciic('THE LITTLE MERMAID'))\n",
    "print(asciic('Oh what a beautiful morning.'))"
   ]
  },
  {
   "cell_type": "code",
   "execution_count": null,
   "id": "21c0e8bf",
   "metadata": {},
   "outputs": [],
   "source": []
  }
 ],
 "metadata": {
  "kernelspec": {
   "display_name": "Python 3 (ipykernel)",
   "language": "python",
   "name": "python3"
  },
  "language_info": {
   "codemirror_mode": {
    "name": "ipython",
    "version": 3
   },
   "file_extension": ".py",
   "mimetype": "text/x-python",
   "name": "python",
   "nbconvert_exporter": "python",
   "pygments_lexer": "ipython3",
   "version": "3.9.12"
  }
 },
 "nbformat": 4,
 "nbformat_minor": 5
}
