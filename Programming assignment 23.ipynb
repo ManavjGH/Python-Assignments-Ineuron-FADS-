{
 "cells": [
  {
   "cell_type": "markdown",
   "id": "1f3f0c69",
   "metadata": {},
   "source": [
    "Create a function that takes a number as an argument and returns True or False depending\n",
    "on whether the number is symmetrical or not. A number is symmetrical when it is the same as\n",
    "its reverse."
   ]
  },
  {
   "cell_type": "code",
   "execution_count": 1,
   "id": "5ca014c8",
   "metadata": {},
   "outputs": [
    {
     "name": "stdout",
     "output_type": "stream",
     "text": [
      "True\n",
      "True\n",
      "False\n",
      "False\n"
     ]
    }
   ],
   "source": [
    "def is_symm(n1):\n",
    "    a=list(str(n1))\n",
    "    b=(list(reversed(a)))\n",
    "    if a==b:\n",
    "        print('True')\n",
    "    else:\n",
    "        print('False')\n",
    "is_symm(7227)\n",
    "is_symm(8998)\n",
    "is_symm(12345)\n",
    "is_symm(4455)\n",
    "\n",
    "    \n"
   ]
  },
  {
   "cell_type": "markdown",
   "id": "c7420759",
   "metadata": {},
   "source": [
    "Given a string of numbers separated by a comma and space, return the product of the\n",
    "numbers."
   ]
  },
  {
   "cell_type": "code",
   "execution_count": 2,
   "id": "f6eb1994",
   "metadata": {},
   "outputs": [
    {
     "name": "stdout",
     "output_type": "stream",
     "text": [
      "6\n",
      "24\n",
      "0\n",
      "-20\n"
     ]
    }
   ],
   "source": [
    "def  multiply_nums(n):\n",
    "    r=1\n",
    "    a=n.split(',')\n",
    "    for i in a:\n",
    "        r*=int(i)\n",
    "    print (r)\n",
    "    \n",
    "\n",
    "multiply_nums('2,3')\n",
    "multiply_nums('1,2,3,4')\n",
    "multiply_nums('54,75,453,0')\n",
    "multiply_nums('10, -2')\n",
    "        "
   ]
  },
  {
   "cell_type": "markdown",
   "id": "3a4ec417",
   "metadata": {},
   "source": [
    "Create a function that squares every digit of a number."
   ]
  },
  {
   "cell_type": "code",
   "execution_count": 3,
   "id": "9ec209a6",
   "metadata": {},
   "outputs": [
    {
     "name": "stdout",
     "output_type": "stream",
     "text": [
      "811181\n",
      "416649\n",
      "9414\n"
     ]
    }
   ],
   "source": [
    "def square(n):\n",
    "    l=[]\n",
    "    sn=str(n)\n",
    "    for i in sn:\n",
    "        a=int(i)\n",
    "        b=a*a\n",
    "        l.append(str(b))\n",
    "    c=\"\".join(l)\n",
    "    print (c)\n",
    "    \n",
    "square(9119)\n",
    "square(2483)\n",
    "square(3212)\n",
    "\n",
    "        \n",
    "        "
   ]
  },
  {
   "cell_type": "markdown",
   "id": "13a93608",
   "metadata": {},
   "source": [
    "Create a function that sorts a list and removes all duplicate items from it."
   ]
  },
  {
   "cell_type": "code",
   "execution_count": 4,
   "id": "5a42b7d2",
   "metadata": {},
   "outputs": [
    {
     "name": "stdout",
     "output_type": "stream",
     "text": [
      "[1, 3, 5]\n",
      "[4]\n",
      "[5, 7, 8, 9, 10, 15]\n",
      "[1, 2, 3]\n"
     ]
    }
   ],
   "source": [
    "def setify(l):\n",
    "    l.sort()\n",
    "    s=set(l)\n",
    "    l2=list(s)\n",
    "    return l2\n",
    "print(setify([1,3,3,5,5]))\n",
    "print(setify([4,4,4,4,4]))\n",
    "print(setify([5,7,8,9,10,15]))\n",
    "print(setify([3,3,3,2,1]))\n",
    "    "
   ]
  },
  {
   "cell_type": "markdown",
   "id": "a33ef4fb",
   "metadata": {},
   "source": [
    "Create a function that returns the mean of all digits."
   ]
  },
  {
   "cell_type": "code",
   "execution_count": 5,
   "id": "3d70a760",
   "metadata": {},
   "outputs": [
    {
     "name": "stdout",
     "output_type": "stream",
     "text": [
      "3\n",
      "3\n",
      "6\n"
     ]
    }
   ],
   "source": [
    "def mean(n):\n",
    "    l=[]\n",
    "    for i in str(n):\n",
    "        b=int(i)\n",
    "        l.append(b)\n",
    "    s=sum(l[0:])\n",
    "    m=s/len(l)\n",
    "    print(int(m))\n",
    "mean(42)\n",
    "mean(12345)\n",
    "mean(666)"
   ]
  },
  {
   "cell_type": "code",
   "execution_count": null,
   "id": "3b60a586",
   "metadata": {},
   "outputs": [],
   "source": []
  }
 ],
 "metadata": {
  "kernelspec": {
   "display_name": "Python 3 (ipykernel)",
   "language": "python",
   "name": "python3"
  },
  "language_info": {
   "codemirror_mode": {
    "name": "ipython",
    "version": 3
   },
   "file_extension": ".py",
   "mimetype": "text/x-python",
   "name": "python",
   "nbconvert_exporter": "python",
   "pygments_lexer": "ipython3",
   "version": "3.9.12"
  }
 },
 "nbformat": 4,
 "nbformat_minor": 5
}
