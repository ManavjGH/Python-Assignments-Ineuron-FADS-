{
 "cells": [
  {
   "cell_type": "code",
   "execution_count": null,
   "id": "e4998584",
   "metadata": {},
   "outputs": [],
   "source": [
    "# 1. Write a Python program to print 'Hello Python'?\n",
    "# 2. Write a Python program to do arithmetical operations addition and division.?\n",
    "# 3. Write a Python program to find the area of a triangle?\n",
    "# 4. Write a Python program to swap two variables?\n",
    "# 5. Write a Python program to generate a random number?"
   ]
  },
  {
   "cell_type": "code",
   "execution_count": 1,
   "id": "02e99848",
   "metadata": {},
   "outputs": [
    {
     "name": "stdout",
     "output_type": "stream",
     "text": [
      "Hello World\n"
     ]
    }
   ],
   "source": [
    "#1\n",
    "print (\"Hello World\")"
   ]
  },
  {
   "cell_type": "code",
   "execution_count": 18,
   "id": "eb6cd89c",
   "metadata": {},
   "outputs": [
    {
     "name": "stdout",
     "output_type": "stream",
     "text": [
      "enter your number: 10\n",
      "enter your number: 20\n",
      "The sum of a and b is 30\n",
      "The division of a and b is 0.5\n"
     ]
    }
   ],
   "source": [
    "#2\n",
    "a=int(input('enter your number: '))\n",
    "b=int(input('enter your number: '))\n",
    "sum= a+b\n",
    "div= a/b\n",
    "print (f'The sum of a and b is {sum}')\n",
    "print (f'The division of a and b is {div}')\n"
   ]
  },
  {
   "cell_type": "code",
   "execution_count": 4,
   "id": "c580ca96",
   "metadata": {},
   "outputs": [
    {
     "name": "stdout",
     "output_type": "stream",
     "text": [
      "30.0\n"
     ]
    }
   ],
   "source": [
    "#3\n",
    "# Area of traingle = . A = 1/2 × b × h.\n",
    "b=6\n",
    "h=10\n",
    "A= (b*h)/2\n",
    "print (A)"
   ]
  },
  {
   "cell_type": "code",
   "execution_count": 6,
   "id": "f13bbc4b",
   "metadata": {},
   "outputs": [
    {
     "name": "stdout",
     "output_type": "stream",
     "text": [
      "enter your value: 10\n",
      "enter your value: 20\n",
      "The value of a after swapping is 20\n",
      "The value of b after swapping is 10\n"
     ]
    }
   ],
   "source": [
    "# 4\n",
    "a=input('enter your value: ')\n",
    "b=input('enter your value: ')\n",
    "\n",
    "c=a\n",
    "a=b\n",
    "b=c\n",
    "\n",
    "print (f'The value of a after swapping is {a}')\n",
    "print (f'The value of b after swapping is {b}')\n"
   ]
  },
  {
   "cell_type": "code",
   "execution_count": 17,
   "id": "db7df54e",
   "metadata": {},
   "outputs": [
    {
     "name": "stdout",
     "output_type": "stream",
     "text": [
      "1\n"
     ]
    },
    {
     "data": {
      "text/plain": [
       "43"
      ]
     },
     "execution_count": 17,
     "metadata": {},
     "output_type": "execute_result"
    }
   ],
   "source": [
    "# 5\n",
    "import random\n",
    "List=[1,2,3,4,5,6,7,8,9,10]\n",
    "print(random.choice(List))\n",
    "\n",
    "random.randint(1,100)"
   ]
  },
  {
   "cell_type": "code",
   "execution_count": null,
   "id": "b72ca35b",
   "metadata": {},
   "outputs": [],
   "source": []
  }
 ],
 "metadata": {
  "kernelspec": {
   "display_name": "Python 3 (ipykernel)",
   "language": "python",
   "name": "python3"
  },
  "language_info": {
   "codemirror_mode": {
    "name": "ipython",
    "version": 3
   },
   "file_extension": ".py",
   "mimetype": "text/x-python",
   "name": "python",
   "nbconvert_exporter": "python",
   "pygments_lexer": "ipython3",
   "version": "3.9.12"
  }
 },
 "nbformat": 4,
 "nbformat_minor": 5
}
