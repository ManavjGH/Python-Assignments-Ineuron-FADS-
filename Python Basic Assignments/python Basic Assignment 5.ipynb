{
 "cells": [
  {
   "cell_type": "markdown",
   "id": "7d4cf7c5",
   "metadata": {},
   "source": [
    "1.What does an empty dictionary's code look like?\n",
    "\n",
    "\n",
    "**Ans:** An empty dictionary is often represented by two empty curly brackets\n",
    "d = {} or d = dict()\n",
    "\n",
    "2.what is the value of dictionary value with key 'foo' and the value 42 ?\n",
    "\n",
    "\n",
    "**Ans:** {'foo':42}\n",
    "\n",
    "3.What is the most significant distinction between a dictionary and a list?\n",
    "\n",
    "\n",
    "**Ans:** Dictionaries are represented by {} where as listed are represented by []\n",
    "The Items stored in a dictionary are Unordered , while the items in a list are ordered\n",
    "The dictionary is made of keys and values there is no such things in lists.\n",
    "\n",
    "4.What happens if you try to access spam ['foo'] if spam is {'bar':100} ?\n",
    "\n",
    "\n",
    "**Ans:** we will get a keyError KeyError: 'foo'\n",
    "\n",
    "5.if a dictionary is stored in spam,what is the difference between the expressions 'cat' in spam and 'cat' in spam.keys() ?\n",
    "\n",
    "\n",
    "**Ans:** There is no difference . The operator checks whether a value exits as a key in the dictionary or not\n",
    "\n",
    "6.if a dictionary is stored in spam,what is the difference between the expressions 'cat' in spam and 'cat' in spam.values() ?\n",
    "\n",
    "\n",
    "**Ans:**'cat' in spam checks whether there is a 'cat' key in the dictionary, while 'cat' in spam.values() checks whether there is a value 'cat' for one of the keys in spam.\n",
    "\n",
    "7.what is a shortcut for the following code ?\n",
    "if 'color' not in spam: spam['color'] ='black'\n",
    "\n",
    "**Ans:** spam.setdefault('color','black')\n",
    "\n",
    "8.How do you 'pretty print' dictionary values using which modules and function ?\n",
    "\n",
    "\n",
    "**Ans:** we can pretty print a dictionary using three functions\n",
    "\n",
    "by using pprint() function of pprint module\n",
    "1. pprint() function doesnot prettify nested dictionaries\n",
    "2. by using dumps() method of json module\n",
    "3. by using dumps() method of yaml module"
   ]
  },
  {
   "cell_type": "markdown",
   "id": "53898695",
   "metadata": {},
   "source": []
  }
 ],
 "metadata": {
  "kernelspec": {
   "display_name": "Python 3 (ipykernel)",
   "language": "python",
   "name": "python3"
  },
  "language_info": {
   "codemirror_mode": {
    "name": "ipython",
    "version": 3
   },
   "file_extension": ".py",
   "mimetype": "text/x-python",
   "name": "python",
   "nbconvert_exporter": "python",
   "pygments_lexer": "ipython3",
   "version": "3.9.12"
  }
 },
 "nbformat": 4,
 "nbformat_minor": 5
}
