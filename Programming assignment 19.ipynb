{
 "cells": [
  {
   "cell_type": "markdown",
   "id": "12795bb3",
   "metadata": {},
   "source": [
    "Create a function that takes a string and returns a string in which each character is repeated\n",
    "once."
   ]
  },
  {
   "cell_type": "code",
   "execution_count": 1,
   "id": "a1161e59",
   "metadata": {},
   "outputs": [
    {
     "name": "stdout",
     "output_type": "stream",
     "text": [
      "SSttrriinngg\n",
      "HHeelllloo  WWoorrlldd!!\n",
      "11223344!!__  \n"
     ]
    }
   ],
   "source": [
    "def double_char(s):\n",
    "    l=[]\n",
    "    for i in s:\n",
    "        l.append(i*2)\n",
    "    dc=''.join(l)\n",
    "    print(dc)\n",
    "double_char(\"String\") #➞ \"SSttrriinngg\" \n",
    "double_char(\"Hello World!\") #➞ \"HHeelllloo WWoorrlldd!!\" \n",
    "double_char(\"1234!_ \") #➞ \"11223344!!__ \"\n",
    "        \n",
    "    "
   ]
  },
  {
   "cell_type": "markdown",
   "id": "92a0f537",
   "metadata": {},
   "source": [
    "Create a function that reverses a boolean value and returns the string &quot;boolean expected&quot;\n",
    "if another variable type is given."
   ]
  },
  {
   "cell_type": "code",
   "execution_count": 2,
   "id": "e5aad59f",
   "metadata": {},
   "outputs": [
    {
     "name": "stdout",
     "output_type": "stream",
     "text": [
      "False\n",
      "True\n",
      "Boolean expexted\n",
      "Boolean expexted\n"
     ]
    }
   ],
   "source": [
    "def reverse(b):\n",
    "    if (type(b)==int):\n",
    "        print('Boolean expexted')\n",
    "    elif (b==True):\n",
    "        print(False)\n",
    "    elif (b==False):\n",
    "        print(True)\n",
    "    else:\n",
    "        print('Boolean expexted')\n",
    "\n",
    "reverse(True) #➞ False \n",
    "reverse(False) #➞ True \n",
    "reverse(0) #➞ \"boolean expected\" \n",
    "reverse(None) #➞ \"boolean expected\"        "
   ]
  },
  {
   "cell_type": "markdown",
   "id": "256fff7d",
   "metadata": {},
   "source": [
    "Create a function that returns the thickness (in meters) of a piece of paper after folding it n\n",
    "number of times. The paper starts off with a thickness of 0.5mm."
   ]
  },
  {
   "cell_type": "code",
   "execution_count": 3,
   "id": "25b82916",
   "metadata": {},
   "outputs": [
    {
     "name": "stdout",
     "output_type": "stream",
     "text": [
      "0.001m\n",
      "0.008m\n",
      "1048.576m\n"
     ]
    }
   ],
   "source": [
    "def num_layers(num):\n",
    "    nl=0.5*(2**num)\n",
    "    m=nl*0.001\n",
    "    print(f'{m}m')\n",
    "\n",
    "num_layers(1) #➞ \"0.001m\"\n",
    "\n",
    "#Paper folded once is 1mm (equal to 0.001m)\n",
    "num_layers(4) #➞ \"0.008m\"\n",
    "\n",
    "#Paper folded 4 times is 8mm (equal to 0.008m)\n",
    "num_layers(21) #➞ \"1048.576m\"\n",
    "\n",
    "#Paper folded 21 times is 1048576mm (equal to 1048.576m)\n"
   ]
  },
  {
   "cell_type": "markdown",
   "id": "1b90088a",
   "metadata": {},
   "source": [
    "Create a function that takes a single string as argument and returns an ordered list containing\n",
    "the indices of all capital letters in the string."
   ]
  },
  {
   "cell_type": "code",
   "execution_count": 4,
   "id": "b46b810b",
   "metadata": {},
   "outputs": [
    {
     "name": "stdout",
     "output_type": "stream",
     "text": [
      "[1, 3, 5]\n",
      "[1, 3, 4, 6]\n",
      "[]\n",
      "[0, 1, 2, 3, 4, 5]\n",
      "[1]\n"
     ]
    }
   ],
   "source": [
    "def index_of_caps(s):\n",
    "    l=[]\n",
    "    l2=[]\n",
    "    for i in s:\n",
    "        l.append(i)\n",
    "    for j in l:\n",
    "        if j.isupper():\n",
    "            l2.append(l.index(j))\n",
    "    print(l2)\n",
    "\n",
    "index_of_caps(\"eDaBiT\") #➞ [1, 3, 5] \n",
    "index_of_caps(\"eQuINoX\") #➞ [1, 3, 4, 6] \n",
    "index_of_caps(\"determine\") #➞ [] \n",
    "index_of_caps(\"STRIKE\") #➞ [0, 1, 2, 3, 4, 5] \n",
    "index_of_caps(\"sUn\") #➞ [1]"
   ]
  },
  {
   "cell_type": "markdown",
   "id": "cc5c1ca0",
   "metadata": {},
   "source": [
    "Using list comprehensions, create a function that finds all even numbers from 1 to the given\n",
    "number."
   ]
  },
  {
   "cell_type": "code",
   "execution_count": 5,
   "id": "6ca2f63e",
   "metadata": {},
   "outputs": [
    {
     "name": "stdout",
     "output_type": "stream",
     "text": [
      "[2, 4, 6, 8]\n",
      "[2, 4]\n",
      "[2]\n"
     ]
    }
   ],
   "source": [
    "def find_even_nums(n):\n",
    "    l=[]\n",
    "    for i in range(1,n+1):\n",
    "        if i%2==0:\n",
    "            l.append(i)\n",
    "    print(l)\n",
    "    \n",
    "find_even_nums(8) #➞ [2, 4, 6, 8]\n",
    "find_even_nums(4) #➞ [2, 4]\n",
    "find_even_nums(2) #➞ [2]\n",
    "        "
   ]
  },
  {
   "cell_type": "code",
   "execution_count": null,
   "id": "a1c24053",
   "metadata": {},
   "outputs": [],
   "source": []
  }
 ],
 "metadata": {
  "kernelspec": {
   "display_name": "Python 3 (ipykernel)",
   "language": "python",
   "name": "python3"
  },
  "language_info": {
   "codemirror_mode": {
    "name": "ipython",
    "version": 3
   },
   "file_extension": ".py",
   "mimetype": "text/x-python",
   "name": "python",
   "nbconvert_exporter": "python",
   "pygments_lexer": "ipython3",
   "version": "3.9.12"
  }
 },
 "nbformat": 4,
 "nbformat_minor": 5
}
