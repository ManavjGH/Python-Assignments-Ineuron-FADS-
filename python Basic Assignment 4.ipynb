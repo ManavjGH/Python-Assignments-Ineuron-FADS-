{
 "cells": [
  {
   "cell_type": "markdown",
   "id": "5f823936",
   "metadata": {},
   "source": [
    "1.What exactly is []?\n",
    "\n",
    "--> Square brackets \"[]\" are primarily usde to describe lists or empty list in python."
   ]
  },
  {
   "cell_type": "code",
   "execution_count": 2,
   "id": "388decca",
   "metadata": {},
   "outputs": [
    {
     "data": {
      "text/plain": [
       "[2, 4, 'hello', 8, 10]"
      ]
     },
     "execution_count": 2,
     "metadata": {},
     "output_type": "execute_result"
    }
   ],
   "source": [
    "# 2. In a list of values stored in a variable called spam, how would you assign the value 'hello' as the third value? \n",
    "# (Assume [2, 4, 6, 8, 10] are in spam.)\n",
    "\n",
    "spam = [2, 4, 6, 8, 10]\n",
    "spam[2] = 'hello'\n",
    "spam"
   ]
  },
  {
   "cell_type": "markdown",
   "id": "cd1b7797",
   "metadata": {},
   "source": []
  },
  {
   "cell_type": "markdown",
   "id": "90c9252f",
   "metadata": {},
   "source": [
    "Let's pretend the spam includes the list ['a', 'b', 'c', 'd'] for the next three queries.\n",
    "\n",
    "**3.What is the value of spam[int(int('3' * 2) / 11)]?**\n",
    "\n",
    "--> value will be 'd'\n",
    "\n",
    "**4.What is the value of spam[-1]?**\n",
    "\n",
    "--> value will be 'd'**\n",
    "**\n",
    "**5.What is the value of spam[:2]?**\n",
    "\n",
    "--> value will be ['a', 'b']\n",
    "\n",
    "Let's pretend bacon has the list [3.14, 'cat,' 11, 'cat,' True] for the next three questions.\n",
    "\n",
    "**6.What is the value of bacon.index('cat')?**\n",
    "\n",
    "--> value will be 1\n",
    "\n",
    "\n",
    "**7.How does bacon.append(99) change the look of the list value in bacon?**\n",
    "\n",
    "--> the list will look like [3.14, 'cat,' 11, 'cat,' True, 99]\n",
    "\n",
    "\n",
    "**8.How does bacon.remove('cat') change the look of the list in bacon?**\n",
    "\n",
    "--> the list will look like [3.14, 11, 'cat', True, 99]\n",
    "\n",
    "\n",
    "\n",
    "**9.What are the list concatenation and list replication operators?**\n",
    "\n",
    "--> \n",
    "the list concatenation operator is '+' the will add two lists\n",
    "\n",
    "eg: \n",
    "list1 = [1, 2, 3]\n",
    "list2 = [4, 5, 6]\n",
    "concatenated_list = list1 + list2\n",
    "Output: [1, 2, 3, 4, 5, 6]\n",
    "\n",
    "the list replication operator is '*' this will multiply a list with given number of times or replicate the list.\n",
    "\n",
    "eg:\n",
    "list1 = [1, 2, 3]\n",
    "replicated_list = list1 * 3\n",
    "Output: [1, 2, 3, 1, 2, 3, 1, 2, 3]\n",
    "\n",
    "**10. What is difference between the list methods append() and insert()?**\n",
    "\n",
    "--> the main difference between append() and insert() is that append() adds an element at the end of a list, while insert() allows you to specify the index where the element should be inserted, providing more control over the list's structure\n",
    "\n",
    "\n",
    "**11. What are the two methods for removing items from a list?**\n",
    "\n",
    "--> the two methods are remove() and pop().\n",
    "\n",
    "\n",
    "**12. Describe how list values and string values are identical.**\n",
    "\n",
    "--> 1. The both have indexs and can be sliced.\n",
    "    2. They both are iterable objects.\n",
    "    3. both can be used in other data structures like string can be in lists and list can also be in lists.\n",
    "\n",
    "**13. What's the difference between tuples and lists?**\n",
    "\n",
    "--> Tuples are immutable which means that they can not be changed(updated or modified) once created, \n",
    "    List have no such limitations,\n",
    "\n",
    "\n",
    "\n",
    "**14. How do you type a tuple value that only contains the integer 42?**\n",
    "\n",
    "--> my_tuple = (42,)\n",
    "    the comma after 42 is necessary to show that this is the tuple with single value.\n",
    "\n",
    "\n",
    "**15. How do you get a list value's tuple form? How do you get a tuple value's list form?**\n",
    "\n",
    "--> my_list = [1, 2, 3]\n",
    "    my_tuple = tuple(my_list)\n",
    "    \n",
    "    my_tuple = (1, 2, 3)\n",
    "    my_list = list(my_tuple)\n",
    "    \n",
    "\n",
    "**16. Variables that \"contain\" list values are not necessarily lists themselves. Instead, what do they contain?**\n",
    "\n",
    "--> Variables that \"contain\" list values are actually references to the list objects. They store the memory address where the list is stored rather than the list data itself. In other words, the variables contain references to the list objects.\n",
    "\n",
    "\n",
    "**17. How do you distinguish between copy.copy() and copy.deepcopy()?**\n",
    "\n",
    "--> copy.copy() creates a shallow copy, while copy.deepcopy() creates a deep copy. \n",
    "that means if there are changes in nested objects that will be shown in the shallow copy i.e. copy,copy() and not in the copy.deepcopy().The choice between them depends on whether you need independent copies of nested objects or if a shared reference is acceptable."
   ]
  },
  {
   "cell_type": "code",
   "execution_count": null,
   "id": "9f698d3c",
   "metadata": {},
   "outputs": [],
   "source": []
  }
 ],
 "metadata": {
  "kernelspec": {
   "display_name": "Python 3 (ipykernel)",
   "language": "python",
   "name": "python3"
  },
  "language_info": {
   "codemirror_mode": {
    "name": "ipython",
    "version": 3
   },
   "file_extension": ".py",
   "mimetype": "text/x-python",
   "name": "python",
   "nbconvert_exporter": "python",
   "pygments_lexer": "ipython3",
   "version": "3.9.12"
  }
 },
 "nbformat": 4,
 "nbformat_minor": 5
}
