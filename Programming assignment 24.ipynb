{
 "cells": [
  {
   "cell_type": "markdown",
   "id": "c7dcc066",
   "metadata": {},
   "source": [
    "Create a function that takes an integer and returns a list from 1 to the given number, where:\n",
    "1.If the number can be divided evenly by 4, amplify it by 10 (i.e. return 10 times the\n",
    "number).\n",
    "2.If the number cannot be divided evenly by 4, simply return the number."
   ]
  },
  {
   "cell_type": "code",
   "execution_count": 1,
   "id": "b011b859",
   "metadata": {},
   "outputs": [
    {
     "name": "stdout",
     "output_type": "stream",
     "text": [
      "[1, 2, 3, 40]\n",
      "[1, 2, 3, 40, 5, 6, 7, 80, 9, 10, 11, 120, 13, 14, 15, 160]\n",
      "[1, 2, 3, 40, 5, 6, 7, 80, 9, 10, 11, 120, 13, 14, 15, 160, 17, 18, 19, 200, 21, 22, 23, 240, 25, 26, 27, 280, 29, 30, 31, 320]\n"
     ]
    }
   ],
   "source": [
    "def amplify(n):\n",
    "    l1=[]\n",
    "    for i in range(1,n+1):\n",
    "        if i%4==0:\n",
    "            i=i*10\n",
    "        else:\n",
    "            i\n",
    "        l1.append(i)\n",
    "    return l1\n",
    "    \n",
    "print(amplify(4))\n",
    "print(amplify(16))\n",
    "print(amplify(32))\n"
   ]
  },
  {
   "cell_type": "markdown",
   "id": "3f5d6d7c",
   "metadata": {},
   "source": [
    "Create a function that takes a list of numbers and return the number that&#39;s unique."
   ]
  },
  {
   "cell_type": "code",
   "execution_count": 2,
   "id": "5114ccd2",
   "metadata": {},
   "outputs": [
    {
     "name": "stdout",
     "output_type": "stream",
     "text": [
      "7\n",
      "0.77\n",
      "0\n"
     ]
    }
   ],
   "source": [
    "l1=[3, 3, 3, 7, 3, 3]\n",
    "l2=[0, 0, 0.77, 0, 0]\n",
    "l3=[0, 1, 1, 1, 1, 1, 1, 1]\n",
    "def unique(l):\n",
    "    for i in l:\n",
    "        if l.count(i)==1:\n",
    "            return i\n",
    "       \n",
    "        \n",
    "print(unique(l1))\n",
    "print(unique(l2))\n",
    "print(unique(l3))"
   ]
  },
  {
   "cell_type": "markdown",
   "id": "23c56e9c",
   "metadata": {},
   "source": [
    "Your task is to create a Circle constructor that creates a circle with a radius provided by an\n",
    "argument. The circles constructed must have two getters getArea() (PIr^2) and\n",
    "getPerimeter() (2PI*r) which give both respective areas and perimeter (circumference)."
   ]
  },
  {
   "cell_type": "code",
   "execution_count": 3,
   "id": "3d7af0d6",
   "metadata": {},
   "outputs": [
    {
     "name": "stdout",
     "output_type": "stream",
     "text": [
      "The area of the circle with radius 11 is 380\n",
      "The perimeter of the circle with radius 4.44 is 28\n"
     ]
    }
   ],
   "source": [
    "import math\n",
    "class circle:\n",
    "    def __init__(self,number):\n",
    "        self.number=number\n",
    "        self.area=3.14*number**2\n",
    "        round(self.area)\n",
    "        self.perimeter=(2*3.14)*number\n",
    "        round(self.perimeter)\n",
    "        \n",
    "    def getarea(self):\n",
    "        print(f'The area of the circle with radius {self.number} is {round(self.area)}')\n",
    "        \n",
    "    def getperimeter(self):\n",
    "        print(f'The perimeter of the circle with radius {self.number} is {round(self.perimeter)}')\n",
    "        \n",
    "c=circle(11)\n",
    "c.getarea()\n",
    "c1=circle(4.44)\n",
    "c1.getperimeter()\n",
    "   "
   ]
  },
  {
   "cell_type": "markdown",
   "id": "96f15dab",
   "metadata": {},
   "source": [
    "Create a function that takes a list of strings and return a list, sorted from shortest to longest."
   ]
  },
  {
   "cell_type": "code",
   "execution_count": 4,
   "id": "ee5e795c",
   "metadata": {},
   "outputs": [
    {
     "name": "stdout",
     "output_type": "stream",
     "text": [
      "['apple', 'google', 'microsoft']\n",
      "['Raphael', 'Leonardo', 'Donatello', 'Michelangelo']\n"
     ]
    }
   ],
   "source": [
    "def sort_by_length(l):\n",
    "    l2=sorted(l,key=len)\n",
    "    return l2\n",
    "  \n",
    "\n",
    "print(sort_by_length(['apple','microsoft','google']))\n",
    "print(sort_by_length(['Leonardo','Michelangelo','Raphael','Donatello']))      "
   ]
  },
  {
   "cell_type": "markdown",
   "id": "6cdcb50a",
   "metadata": {},
   "source": [
    "Create a function that validates whether three given integers form a Pythagorean triplet. The\n",
    "sum of the squares of the two smallest integers must equal the square of the largest number to\n",
    "be validated."
   ]
  },
  {
   "cell_type": "code",
   "execution_count": 5,
   "id": "0a3fd2cc",
   "metadata": {},
   "outputs": [
    {
     "name": "stdout",
     "output_type": "stream",
     "text": [
      "The given integers form a Pythagorean triplet!\n",
      "The given integers form a Pythagorean triplet!\n",
      "The given integers does not form a Pythagorean triplet!\n"
     ]
    }
   ],
   "source": [
    "def is_triplet(n1,n2,n3):\n",
    "    if n1>n3:\n",
    "        if n1>n2:\n",
    "            f1=n1\n",
    "\n",
    "    if n2>n3:\n",
    "        if n2>n1:\n",
    "            f1=n2\n",
    "            \n",
    "    if n3>n1:\n",
    "        if n3>n2:\n",
    "            f1=n3\n",
    "    \n",
    "    if f1==n1:\n",
    "        if n2**2+n3**2==n1**2:\n",
    "            print('The given integers form a Pythagorean triplet!')\n",
    "        else:\n",
    "            print('The given integers does not form a Pythagorean triplet!')        \n",
    "    if f1==n2:\n",
    "        if n1**2+n3**2==n2**2:\n",
    "            print('The given integers form a Pythagorean triplet!')\n",
    "        else:\n",
    "            print('The given integers does not form a Pythagorean triplet!')\n",
    "    if f1==n3:\n",
    "        if n2**2+n1**2==n3**2:\n",
    "            print('The given integers form a Pythagorean triplet!')\n",
    "        else:\n",
    "            print('The given integers does not form a Pythagorean triplet!')\n",
    "            \n",
    "is_triplet(3,4,5)\n",
    "is_triplet(13,5,12)\n",
    "is_triplet(1,2,3)\n",
    "    \n",
    "        \n",
    "      \n",
    "    "
   ]
  },
  {
   "cell_type": "code",
   "execution_count": null,
   "id": "43635892",
   "metadata": {},
   "outputs": [],
   "source": []
  }
 ],
 "metadata": {
  "kernelspec": {
   "display_name": "Python 3 (ipykernel)",
   "language": "python",
   "name": "python3"
  },
  "language_info": {
   "codemirror_mode": {
    "name": "ipython",
    "version": 3
   },
   "file_extension": ".py",
   "mimetype": "text/x-python",
   "name": "python",
   "nbconvert_exporter": "python",
   "pygments_lexer": "ipython3",
   "version": "3.9.12"
  }
 },
 "nbformat": 4,
 "nbformat_minor": 5
}
