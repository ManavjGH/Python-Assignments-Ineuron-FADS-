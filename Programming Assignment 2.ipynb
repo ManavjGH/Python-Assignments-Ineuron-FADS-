{
 "cells": [
  {
   "cell_type": "markdown",
   "id": "24ba4596",
   "metadata": {},
   "source": [
    "1.Write a Python program to convert kilometers to miles?\n",
    "2.Write a Python program to convert Celsius to Fahrenheit?\n",
    "3.Write a Python program to display calendar?\n",
    "4.Write a Python program to solve quadratic equation?\n",
    "5.Write a Python program to swap two variables without temp variable?"
   ]
  },
  {
   "cell_type": "code",
   "execution_count": 5,
   "id": "6712fde4",
   "metadata": {},
   "outputs": [
    {
     "name": "stdout",
     "output_type": "stream",
     "text": [
      "Enter kms: 99.6\n",
      "99.6km = 61.751999999999995miles\n"
     ]
    }
   ],
   "source": [
    "# 1\n",
    "# 1km=0.62miles\n",
    "km= float(input('Enter kms: '))\n",
    "def function(km):\n",
    "    return (km*0.62)\n",
    "\n",
    "    \n",
    "print(f'{km}km = {function(km)}miles') "
   ]
  },
  {
   "cell_type": "code",
   "execution_count": 8,
   "id": "17fa2d08",
   "metadata": {},
   "outputs": [
    {
     "name": "stdout",
     "output_type": "stream",
     "text": [
      "Enter celcius: 99.6\n",
      "99.6 celcius = 211.28 farenheit\n"
     ]
    }
   ],
   "source": [
    "# 2\n",
    "# (0°C × 9/5) + 32 = 32°F\n",
    "\n",
    "c= float(input('Enter celcius: '))\n",
    "def function(c):\n",
    "    return (c*9/5) + 32\n",
    "\n",
    "    \n",
    "print(f'{c} celcius = {function(c)} farenheit') "
   ]
  },
  {
   "cell_type": "code",
   "execution_count": 10,
   "id": "0b836342",
   "metadata": {},
   "outputs": [],
   "source": [
    "# 3\n",
    "import calendar"
   ]
  },
  {
   "cell_type": "code",
   "execution_count": 16,
   "id": "debcad9d",
   "metadata": {},
   "outputs": [
    {
     "name": "stdout",
     "output_type": "stream",
     "text": [
      "Enter year: 2022\n",
      "Enter month: 9\n",
      "   September 2022\n",
      "Mo Tu We Th Fr Sa Su\n",
      "          1  2  3  4\n",
      " 5  6  7  8  9 10 11\n",
      "12 13 14 15 16 17 18\n",
      "19 20 21 22 23 24 25\n",
      "26 27 28 29 30\n",
      "\n"
     ]
    }
   ],
   "source": [
    "year=int(input('Enter year: '))\n",
    "month=int(input('Enter month: '))\n",
    "# year=2022\n",
    "# month=9\n",
    "print(calendar.month(year,month))"
   ]
  },
  {
   "cell_type": "code",
   "execution_count": 18,
   "id": "daedce5e",
   "metadata": {},
   "outputs": [
    {
     "name": "stdout",
     "output_type": "stream",
     "text": [
      "enter a number: 1\n",
      "enter a number: 5\n",
      "enter a number: 6\n",
      "The solutions are (-2+0j) and (-3+0j)\n"
     ]
    }
   ],
   "source": [
    "# 4\n",
    "# ax2 + bx + c = 0 \n",
    "# x = −b ± √(b2 − 4ac)/2a \n",
    "import cmath\n",
    "a=int(input('enter a number: '))\n",
    "b=int(input('enter a number: '))\n",
    "c=int(input('enter a number: '))\n",
    "\n",
    "# x = −b ± √(b2 − 4ac)/2a \n",
    "d= (b**2) - (4*a*c)\n",
    "\n",
    "sol1=(-b+cmath.sqrt(d))/(2*a)\n",
    "sol2=(-b-cmath.sqrt(d))/(2*a)\n",
    "\n",
    "print(f'The solutions are {sol1} and {sol2}')\n"
   ]
  },
  {
   "cell_type": "code",
   "execution_count": 2,
   "id": "5cf92d21",
   "metadata": {},
   "outputs": [
    {
     "name": "stdout",
     "output_type": "stream",
     "text": [
      "before swapping x: 6\n",
      "before swapping y: 8\n",
      "after swapping x: 8\n",
      "after swapping y: 6\n"
     ]
    }
   ],
   "source": [
    "# 5\n",
    "x=6\n",
    "y=8\n",
    "print(f'before swapping x: {x}')\n",
    "print(f'before swapping y: {y}')\n",
    "\n",
    "x,y=y,x\n",
    "print(f'after swapping x: {x}')\n",
    "print(f'after swapping y: {y}')"
   ]
  },
  {
   "cell_type": "code",
   "execution_count": null,
   "id": "06934a4d",
   "metadata": {},
   "outputs": [],
   "source": []
  }
 ],
 "metadata": {
  "kernelspec": {
   "display_name": "Python 3 (ipykernel)",
   "language": "python",
   "name": "python3"
  },
  "language_info": {
   "codemirror_mode": {
    "name": "ipython",
    "version": 3
   },
   "file_extension": ".py",
   "mimetype": "text/x-python",
   "name": "python",
   "nbconvert_exporter": "python",
   "pygments_lexer": "ipython3",
   "version": "3.9.12"
  }
 },
 "nbformat": 4,
 "nbformat_minor": 5
}
