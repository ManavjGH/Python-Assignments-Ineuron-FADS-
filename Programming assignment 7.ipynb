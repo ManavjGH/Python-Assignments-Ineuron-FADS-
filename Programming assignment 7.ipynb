{
 "cells": [
  {
   "cell_type": "markdown",
   "id": "7e3e2961",
   "metadata": {},
   "source": [
    "1.Write a Python Program to find sum of array?\n",
    "\n",
    "2.Write a Python Program to find largest element in an array?\n",
    "\n",
    "3.Write a Python Program for array rotation?\n",
    "\n",
    "4.Write a Python Program to Split the array and add the first part to the end?\n",
    "\n",
    "5.Write a Python Program to check if given array is Monotonic?"
   ]
  },
  {
   "cell_type": "code",
   "execution_count": 1,
   "id": "65e63360",
   "metadata": {},
   "outputs": [],
   "source": [
    "import numpy as np"
   ]
  },
  {
   "cell_type": "code",
   "execution_count": 2,
   "id": "25c922a7",
   "metadata": {},
   "outputs": [
    {
     "name": "stdout",
     "output_type": "stream",
     "text": [
      "[3 5 7 9 5 1]\n",
      "30\n"
     ]
    }
   ],
   "source": [
    "# 1\n",
    "myarr=np.array([3,5,7,9,5,1])\n",
    "print(myarr)\n",
    "print(myarr.sum())"
   ]
  },
  {
   "cell_type": "code",
   "execution_count": 3,
   "id": "cf904314",
   "metadata": {},
   "outputs": [
    {
     "name": "stdout",
     "output_type": "stream",
     "text": [
      "9\n",
      "The largest number is 9\n"
     ]
    }
   ],
   "source": [
    "# 2\n",
    "print(max(myarr))\n",
    "\n",
    "# or\n",
    "\n",
    "def largest(arr):\n",
    "    max=arr[0]\n",
    "    n=len(arr)\n",
    "    \n",
    "    for i in range (n):\n",
    "        if arr[i]>max:\n",
    "            max=arr[i]\n",
    "    return max\n",
    "myarr=np.array([3,5,7,9,5,1])\n",
    "           \n",
    "ans=largest(myarr)\n",
    "print(f'The largest number is {ans}')"
   ]
  },
  {
   "cell_type": "code",
   "execution_count": 4,
   "id": "ab17d531",
   "metadata": {},
   "outputs": [
    {
     "name": "stdout",
     "output_type": "stream",
     "text": [
      "[9, 5, 1, 3, 5, 7]\n"
     ]
    }
   ],
   "source": [
    "# 3\n",
    "def rotatearr(a,i):\n",
    "    n=len(a)\n",
    "    a=a[i:n]+a[0:i]\n",
    "    return a\n",
    "\n",
    "arr=[3,5,7,9,5,1]\n",
    "print(rotatearr(arr,3))"
   ]
  },
  {
   "cell_type": "code",
   "execution_count": 5,
   "id": "5e435bfc",
   "metadata": {},
   "outputs": [
    {
     "name": "stdout",
     "output_type": "stream",
     "text": [
      "[7, 9, 5, 1, 3, 5]\n"
     ]
    }
   ],
   "source": [
    "# 4\n",
    "def spiltarr(arr, p):\n",
    "    n=len(arr)\n",
    "    for i in range(0,p):\n",
    "        t=arr[0]\n",
    "        for j in range(0,n-1):\n",
    "            arr[j]=arr[j+1]\n",
    "        arr[n-1]=t\n",
    "        \n",
    "arr1=[3,5,7,9,5,1]\n",
    "spiltarr(arr1,2)\n",
    "print(arr1)"
   ]
  },
  {
   "cell_type": "code",
   "execution_count": 6,
   "id": "7a8cbbda",
   "metadata": {},
   "outputs": [
    {
     "name": "stdout",
     "output_type": "stream",
     "text": [
      "True\n"
     ]
    }
   ],
   "source": [
    "# 5\n",
    "def monotonic(a):\n",
    "    b=[]\n",
    "    c=[]\n",
    "    b.extend(a)\n",
    "    c.extend(a)\n",
    "    b.sort()\n",
    "    c.sort(reverse=True)\n",
    "    if (b==a or c==a):\n",
    "        return True\n",
    "    else:\n",
    "        return False\n",
    "    \n",
    "d=[5,4,3,2,1]\n",
    "print(monotonic(d))"
   ]
  },
  {
   "cell_type": "code",
   "execution_count": null,
   "id": "5370873a",
   "metadata": {},
   "outputs": [],
   "source": []
  }
 ],
 "metadata": {
  "kernelspec": {
   "display_name": "Python 3 (ipykernel)",
   "language": "python",
   "name": "python3"
  },
  "language_info": {
   "codemirror_mode": {
    "name": "ipython",
    "version": 3
   },
   "file_extension": ".py",
   "mimetype": "text/x-python",
   "name": "python",
   "nbconvert_exporter": "python",
   "pygments_lexer": "ipython3",
   "version": "3.9.12"
  }
 },
 "nbformat": 4,
 "nbformat_minor": 5
}
